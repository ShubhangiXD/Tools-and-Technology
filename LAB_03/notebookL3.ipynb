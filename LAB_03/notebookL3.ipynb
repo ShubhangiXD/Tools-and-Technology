{
 "cells": [
  {
   "cell_type": "code",
   "execution_count": null,
   "metadata": {},
   "outputs": [],
   "source": [
    "pip install numpy"
   ]
  },
  {
   "cell_type": "code",
   "execution_count": null,
   "metadata": {},
   "outputs": [],
   "source": [
    "import numpy as np\n",
    "a = np.array([1, 2, 3])\n",
    "print(a)\n",
    "print(type(a))"
   ]
  },
  {
   "cell_type": "code",
   "execution_count": null,
   "metadata": {},
   "outputs": [],
   "source": [
    "a2 = np.arange(start=0, stop=11, step=2)\n",
    "print(a2)\n",
    "a2 = a2.reshape(2, 3)\n",
    "print(a2)\n",
    "a2 = a2.reshape(3,2)\n",
    "print(a2)\n",
    "a2 = a2.flatten()\n",
    "print(a2)"
   ]
  },
  {
   "cell_type": "code",
   "execution_count": null,
   "metadata": {},
   "outputs": [],
   "source": [
    "a3 = np.linspace(1.0, 5.0, num=5, retstep=True)\n",
    "print(a3)"
   ]
  },
  {
   "cell_type": "code",
   "execution_count": null,
   "metadata": {},
   "outputs": [],
   "source": [
    "a4 = [1,3,4]\n",
    "for i in enumerate(a4):\n",
    "    print(i)"
   ]
  },
  {
   "cell_type": "code",
   "execution_count": null,
   "metadata": {},
   "outputs": [],
   "source": [
    "a = np.zeros((3,4))\n",
    "print(a)"
   ]
  },
  {
   "cell_type": "code",
   "execution_count": 3,
   "metadata": {},
   "outputs": [
    {
     "name": "stdout",
     "output_type": "stream",
     "text": [
      "[[6 1 3]\n",
      " [4 3 1]\n",
      " [0 5 8]]\n",
      "[[6 8 9]\n",
      " [1 0 3]\n",
      " [1 3 4]]\n"
     ]
    }
   ],
   "source": [
    "import numpy as np\n",
    "array1 = np.random.randint(10, size=(3, 3)) \n",
    "array2 = np.random.randint(10, size=(3, 3)) \n",
    "print(array1) \n",
    "print(array2) \n",
    "res = np.dot(array1, array2)"
   ]
  },
  {
   "cell_type": "code",
   "execution_count": 3,
   "metadata": {},
   "outputs": [],
   "source": [
    "from scipy import stats as st\n",
    "from numpy.linalg import inv\n",
    "import scipy\n",
    "import scipy.linalg\n",
    "import numpy as np"
   ]
  },
  {
   "cell_type": "code",
   "execution_count": 4,
   "metadata": {},
   "outputs": [
    {
     "name": "stdout",
     "output_type": "stream",
     "text": [
      "[[8 9 5]\n",
      " [7 4 2]\n",
      " [8 4 2]]\n",
      "[[ 2.22044605e-16 -1.00000000e+00  1.00000000e+00]\n",
      " [-1.00000000e+00  1.20000000e+01 -9.50000000e+00]\n",
      " [ 2.00000000e+00 -2.00000000e+01  1.55000000e+01]]\n",
      "[[ 1.00000000e+00  0.00000000e+00  5.32907052e-15]\n",
      " [-8.88178420e-16  1.00000000e+00  0.00000000e+00]\n",
      " [-8.88178420e-16  0.00000000e+00  1.00000000e+00]]\n"
     ]
    }
   ],
   "source": [
    "matrix = np.random.randint(0,10,size=(3,3))\n",
    "print(matrix)\n",
    "matrixinv = inv(matrix)\n",
    "print(matrixinv)\n",
    "check = np.dot(matrix,matrixinv)\n",
    "print(check)"
   ]
  },
  {
   "cell_type": "code",
   "execution_count": 5,
   "metadata": {},
   "outputs": [
    {
     "name": "stdout",
     "output_type": "stream",
     "text": [
      "[[7 2 0]\n",
      " [2 8 8]\n",
      " [9 4 2]]\n",
      "[[0. 0. 1.]\n",
      " [0. 1. 0.]\n",
      " [1. 0. 0.]]\n",
      "[[ 1.          0.          0.        ]\n",
      " [ 0.22222222  1.          0.        ]\n",
      " [ 0.77777778 -0.15625     1.        ]]\n",
      "[[ 9.          4.          2.        ]\n",
      " [ 0.          7.11111111  7.55555556]\n",
      " [ 0.          0.         -0.375     ]]\n"
     ]
    }
   ],
   "source": [
    "z = np.random.randint(0,10,size=(3,3))\n",
    "print(z)\n",
    "P,L,U = scipy.linalg.lu(z)\n",
    "print(P)\n",
    "print(L)\n",
    "print(U)"
   ]
  }
 ],
 "metadata": {
  "kernelspec": {
   "display_name": "Python 3",
   "language": "python",
   "name": "python3"
  },
  "language_info": {
   "codemirror_mode": {
    "name": "ipython",
    "version": 3
   },
   "file_extension": ".py",
   "mimetype": "text/x-python",
   "name": "python",
   "nbconvert_exporter": "python",
   "pygments_lexer": "ipython3",
   "version": "3.12.2"
  }
 },
 "nbformat": 4,
 "nbformat_minor": 2
}
