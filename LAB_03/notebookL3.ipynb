{
 "cells": [
  {
   "cell_type": "code",
   "execution_count": 1,
   "metadata": {},
   "outputs": [
    {
     "name": "stdout",
     "output_type": "stream",
     "text": [
      "Requirement already satisfied: numpy in c:\\users\\kiit\\anaconda3\\lib\\site-packages (1.24.3)\n",
      "Note: you may need to restart the kernel to use updated packages.\n"
     ]
    }
   ],
   "source": [
    "pip install numpy"
   ]
  },
  {
   "cell_type": "code",
   "execution_count": 2,
   "metadata": {},
   "outputs": [
    {
     "name": "stdout",
     "output_type": "stream",
     "text": [
      "[1 2 3]\n",
      "<class 'numpy.ndarray'>\n"
     ]
    }
   ],
   "source": [
    "import numpy as np\n",
    "a = np.array([1, 2, 3])\n",
    "print(a)\n",
    "print(type(a))"
   ]
  },
  {
   "cell_type": "code",
   "execution_count": 3,
   "metadata": {},
   "outputs": [
    {
     "name": "stdout",
     "output_type": "stream",
     "text": [
      "[ 0  2  4  6  8 10]\n",
      "[[ 0  2  4]\n",
      " [ 6  8 10]]\n",
      "[[ 0  2]\n",
      " [ 4  6]\n",
      " [ 8 10]]\n",
      "[ 0  2  4  6  8 10]\n"
     ]
    }
   ],
   "source": [
    "a2 = np.arange(start=0, stop=11, step=2)\n",
    "print(a2)\n",
    "a2 = a2.reshape(2, 3)\n",
    "print(a2)\n",
    "a2 = a2.reshape(3,2)\n",
    "print(a2)\n",
    "a2 = a2.flatten()\n",
    "print(a2)"
   ]
  },
  {
   "cell_type": "code",
   "execution_count": 4,
   "metadata": {},
   "outputs": [
    {
     "name": "stdout",
     "output_type": "stream",
     "text": [
      "(array([1., 2., 3., 4., 5.]), 1.0)\n"
     ]
    }
   ],
   "source": [
    "a3 = np.linspace(1.0, 5.0, num=5, retstep=True)\n",
    "print(a3)"
   ]
  },
  {
   "cell_type": "code",
   "execution_count": 5,
   "metadata": {},
   "outputs": [
    {
     "name": "stdout",
     "output_type": "stream",
     "text": [
      "(0, 1)\n",
      "(1, 3)\n",
      "(2, 4)\n"
     ]
    }
   ],
   "source": [
    "a4 = [1,3,4]\n",
    "for i in enumerate(a4):\n",
    "    print(i)"
   ]
  },
  {
   "cell_type": "code",
   "execution_count": 6,
   "metadata": {},
   "outputs": [
    {
     "name": "stdout",
     "output_type": "stream",
     "text": [
      "[[0. 0. 0. 0.]\n",
      " [0. 0. 0. 0.]\n",
      " [0. 0. 0. 0.]]\n"
     ]
    }
   ],
   "source": [
    "a = np.zeros((3,4))\n",
    "print(a)"
   ]
  },
  {
   "cell_type": "code",
   "execution_count": 1,
   "metadata": {},
   "outputs": [
    {
     "name": "stdout",
     "output_type": "stream",
     "text": [
      "[[7 5 9]\n",
      " [7 6 6]\n",
      " [4 1 4]]\n",
      "[[9 9 7]\n",
      " [2 0 8]\n",
      " [4 5 9]]\n",
      "[[109 108 170]\n",
      " [ 99  93 151]\n",
      " [ 54  56  72]]\n"
     ]
    }
   ],
   "source": [
    "import numpy as np\n",
    "array1 = np.random.randint(10, size=(3, 3)) \n",
    "array2 = np.random.randint(10, size=(3, 3)) \n",
    "print(array1) \n",
    "print(array2) \n",
    "res = np.dot(array1, array2)\n",
    "print(res)"
   ]
  },
  {
   "cell_type": "code",
   "execution_count": 8,
   "metadata": {},
   "outputs": [],
   "source": [
    "from scipy import stats as st\n",
    "from numpy.linalg import inv\n",
    "import scipy\n",
    "import scipy.linalg\n",
    "import numpy as np"
   ]
  },
  {
   "cell_type": "code",
   "execution_count": 9,
   "metadata": {},
   "outputs": [
    {
     "name": "stdout",
     "output_type": "stream",
     "text": [
      "[[6 6 5]\n",
      " [0 1 0]\n",
      " [9 4 0]]\n",
      "[[-1.48029737e-17 -4.44444444e-01  1.11111111e-01]\n",
      " [ 3.33066907e-17  1.00000000e+00  0.00000000e+00]\n",
      " [ 2.00000000e-01 -6.66666667e-01 -1.33333333e-01]]\n",
      "[[ 1.00000000e+00 -4.44089210e-16  0.00000000e+00]\n",
      " [ 3.33066907e-17  1.00000000e+00  0.00000000e+00]\n",
      " [ 0.00000000e+00 -4.44089210e-16  1.00000000e+00]]\n"
     ]
    }
   ],
   "source": [
    "matrix = np.random.randint(0,10,size=(3,3))\n",
    "print(matrix)\n",
    "matrixinv = inv(matrix)\n",
    "print(matrixinv)\n",
    "check = np.dot(matrix,matrixinv)\n",
    "print(check)"
   ]
  },
  {
   "cell_type": "code",
   "execution_count": 10,
   "metadata": {},
   "outputs": [
    {
     "name": "stdout",
     "output_type": "stream",
     "text": [
      "[[3 0 2]\n",
      " [6 5 4]\n",
      " [6 4 1]]\n",
      "[[0. 1. 0.]\n",
      " [1. 0. 0.]\n",
      " [0. 0. 1.]]\n",
      "[[1.  0.  0. ]\n",
      " [0.5 1.  0. ]\n",
      " [1.  0.4 1. ]]\n",
      "[[ 6.   5.   4. ]\n",
      " [ 0.  -2.5  0. ]\n",
      " [ 0.   0.  -3. ]]\n"
     ]
    }
   ],
   "source": [
    "z = np.random.randint(0,10,size=(3,3))\n",
    "print(z)\n",
    "P,L,U = scipy.linalg.lu(z)\n",
    "print(P)\n",
    "print(L)\n",
    "print(U)"
   ]
  }
 ],
 "metadata": {
  "kernelspec": {
   "display_name": "Python 3 (ipykernel)",
   "language": "python",
   "name": "python3"
  },
  "language_info": {
   "codemirror_mode": {
    "name": "ipython",
    "version": 3
   },
   "file_extension": ".py",
   "mimetype": "text/x-python",
   "name": "python",
   "nbconvert_exporter": "python",
   "pygments_lexer": "ipython3",
   "version": "3.12.2"
  }
 },
 "nbformat": 4,
 "nbformat_minor": 2
}
