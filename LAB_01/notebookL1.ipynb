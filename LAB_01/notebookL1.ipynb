{
 "cells": [
  {
   "cell_type": "code",
   "execution_count": 1,
   "id": "d64c879d",
   "metadata": {},
   "outputs": [
    {
     "name": "stdout",
     "output_type": "stream",
     "text": [
      "Enter choice(1/2/3/4): 1\n",
      "Enter first number: 23\n",
      "Enter second number: 34\n",
      "23.0 + 34.0 = 57.0\n",
      "Continue? (yes/no): no\n"
     ]
    }
   ],
   "source": [
    "# 1. Program for a simple calculator\n",
    "def add(x, y):\n",
    "    return x + y\n",
    "\n",
    "def subtract(x, y):\n",
    "    return x - y\n",
    "\n",
    "def multiply(x, y):\n",
    "    return x * y\n",
    "\n",
    "def divide(x, y):\n",
    "    return x / y\n",
    "\n",
    "while True:\n",
    "    choice = input(\"Enter choice(1/2/3/4): \")\n",
    "\n",
    "    if choice in ('1', '2', '3', '4'):\n",
    "        try:\n",
    "            num1 = float(input(\"Enter first number: \"))\n",
    "            num2 = float(input(\"Enter second number: \"))\n",
    "        except ValueError:\n",
    "            print(\"Invalid input. Please enter a number.\")\n",
    "            continue\n",
    "\n",
    "        if choice == '1':\n",
    "            print(num1, \"+\", num2, \"=\", add(num1, num2))\n",
    "\n",
    "        elif choice == '2':\n",
    "            print(num1, \"-\", num2, \"=\", subtract(num1, num2))\n",
    "\n",
    "        elif choice == '3':\n",
    "            print(num1, \"*\", num2, \"=\", multiply(num1, num2))\n",
    "\n",
    "        elif choice == '4':\n",
    "            print(num1, \"/\", num2, \"=\", divide(num1, num2))\n",
    "        \n",
    "        next_calculation = input(\"Continue? (yes/no): \")\n",
    "        if next_calculation == \"no\":\n",
    "          break\n",
    "    else:\n",
    "        print(\"Invalid Input\")"
   ]
  },
  {
   "cell_type": "code",
   "execution_count": 2,
   "id": "170adc14",
   "metadata": {},
   "outputs": [
    {
     "name": "stdout",
     "output_type": "stream",
     "text": [
      "Enter length of the rectangle: 10\n",
      "Enter width of the rectangle: 20\n",
      "The area of rectangle with length 10 and width 20 is 200\n"
     ]
    }
   ],
   "source": [
    "# 2. program to find out the area of a rectangle\n",
    "length = input('Enter length of the rectangle: ')\n",
    "width  = input('Enter width of the rectangle: ')\n",
    "area = int(length) * int(width)\n",
    "print(\"The area of rectangle with length {0} and width {1} is {2}\".format(length, width, area))"
   ]
  },
  {
   "cell_type": "code",
   "execution_count": 3,
   "id": "4a203d91",
   "metadata": {},
   "outputs": [
    {
     "name": "stdout",
     "output_type": "stream",
     "text": [
      "Enter a temperature in celsius: 34\n",
      "The temperature 34 is 93.2 in Farenheit.\n"
     ]
    }
   ],
   "source": [
    "# 3. Program to convert celsius to farenheit\n",
    "def converter(cel):\n",
    "    faren = ((9/5)*cel) + 32\n",
    "    return faren\n",
    "\n",
    "celsius = int(input('Enter a temperature in celsius: '))\n",
    "print(\"The temperature {0} is {1} in Farenheit.\".format(celsius, converter(celsius)))"
   ]
  },
  {
   "cell_type": "code",
   "execution_count": 4,
   "id": "a0e9c87a",
   "metadata": {},
   "outputs": [
    {
     "name": "stdout",
     "output_type": "stream",
     "text": [
      "Enter the value of a: 3\n",
      "Enter the value of b: 4\n",
      "Enter the value of c: 5\n",
      "The solution are (-0.6666666666666666-1.1055415967851332j) and (-0.6666666666666666+1.1055415967851332j)\n"
     ]
    }
   ],
   "source": [
    "# 4. Program to find out the roots of a quadratic equation\n",
    "import cmath\n",
    "a = int(input('Enter the value of a: '))\n",
    "b = int(input('Enter the value of b: '))\n",
    "c = int(input('Enter the value of c: '))\n",
    "\n",
    "d = (b**2) - (4*a*c)\n",
    "\n",
    "x1 = (-b-cmath.sqrt(d))/(2*a)\n",
    "x2 = (-b+cmath.sqrt(d))/(2*a)\n",
    "\n",
    "print('The solution are {0} and {1}'.format(x1,x2))"
   ]
  },
  {
   "cell_type": "code",
   "execution_count": 5,
   "id": "00bdcbb3",
   "metadata": {},
   "outputs": [
    {
     "name": "stdout",
     "output_type": "stream",
     "text": [
      "Enter a number45\n",
      "Odd\n"
     ]
    }
   ],
   "source": [
    "# 5. program to find whether a number is even or odd\n",
    "num = int(input('Enter a number'))\n",
    "if (num%2==0):\n",
    "    print('Even')\n",
    "    \n",
    "else:\n",
    "    print('Odd')"
   ]
  },
  {
   "cell_type": "code",
   "execution_count": 6,
   "id": "93191c43",
   "metadata": {},
   "outputs": [
    {
     "name": "stdout",
     "output_type": "stream",
     "text": [
      "Enter a principal4000\n",
      "Enter time in months12\n",
      "Enter rate of interest4\n",
      "SI =  1920.0\n",
      "Amount =  5920.0\n"
     ]
    }
   ],
   "source": [
    "# 6. Program to calculate simple interest\n",
    "princ = int(input(\"Enter a principal\"))\n",
    "time = int(input(\"Enter time in months\"))\n",
    "rate = int(input(\"Enter rate of interest\"))\n",
    "\n",
    "simpint = (princ * rate * time)/100\n",
    "\n",
    "print(\"SI = \", simpint)\n",
    "print(\"Amount = \", simpint + princ)"
   ]
  },
  {
   "cell_type": "code",
   "execution_count": 7,
   "id": "4db9f310",
   "metadata": {},
   "outputs": [
    {
     "name": "stdout",
     "output_type": "stream",
     "text": [
      "Enter a year: 2024\n",
      "Leap Year\n"
     ]
    }
   ],
   "source": [
    "# 7. Program to check whether a year is a leap year\n",
    "year = int(input(\"Enter a year: \"))\n",
    "if year%4==0 and year%100!=0:\n",
    "    print(\"Leap Year\")\n",
    "else:\n",
    "    print(\"Not a Leap Year\")"
   ]
  },
  {
   "cell_type": "code",
   "execution_count": 8,
   "id": "1fecef7d",
   "metadata": {},
   "outputs": [
    {
     "name": "stdout",
     "output_type": "stream",
     "text": [
      "hello world!\n"
     ]
    }
   ],
   "source": [
    "# 8. Program to concat 2 strings and print them\n",
    "string1 = \"hello \"\n",
    "string2 = \"world!\"\n",
    "finalstring = string1 + string2\n",
    "print(finalstring)"
   ]
  },
  {
   "cell_type": "code",
   "execution_count": 9,
   "id": "10983366",
   "metadata": {},
   "outputs": [
    {
     "name": "stdout",
     "output_type": "stream",
     "text": [
      "Enter a number: 5\n",
      "Enter a number: 6\n",
      "Enter a number: 7\n",
      "maximum: 7\n"
     ]
    }
   ],
   "source": [
    "# 9. program to find out the maximum of 3 numbers\n",
    "def maximum(a, b, c):\n",
    "    if (a>=b) and (a>=c):\n",
    "        largest = a\n",
    "    elif (b>=a) and (b>=c):\n",
    "        largest = b\n",
    "    else:\n",
    "        largest = c\n",
    "        \n",
    "    return largest\n",
    "\n",
    "n1 = int(input('Enter a number: '))\n",
    "n2 = int(input('Enter a number: '))\n",
    "n3 = int(input('Enter a number: '))\n",
    "print(\"maximum: {0}\".format(maximum(n1, n2, n3)))"
   ]
  },
  {
   "cell_type": "code",
   "execution_count": 10,
   "id": "ee0d93c2",
   "metadata": {},
   "outputs": [
    {
     "name": "stdout",
     "output_type": "stream",
     "text": [
      "Enter a number: 5\n",
      "Factorial is 120\n"
     ]
    }
   ],
   "source": [
    "# 10. factorial of a number\n",
    "def factorial(n):\n",
    "    f = 1\n",
    "    for i in range(1, n+1):\n",
    "        f = f*i\n",
    "    return f\n",
    "    \n",
    "num = int(input('Enter a number: '))\n",
    "print(\"Factorial is {0}\".format(factorial(num)))"
   ]
  },
  {
   "cell_type": "code",
   "execution_count": 11,
   "id": "b4ae8865",
   "metadata": {},
   "outputs": [
    {
     "name": "stdout",
     "output_type": "stream",
     "text": [
      "Enter 2 numbers: \n",
      "Enter 1st number: 1\n",
      "Enter 2nd number: 10\n",
      "Enter your guess: 6\n",
      "Too low\n",
      "Enter your guess: 8\n",
      "Too low\n",
      "Enter your guess: 9\n",
      "Correct!\n"
     ]
    }
   ],
   "source": [
    "# program to generate a random number and have the user guess it correctly\n",
    "import random\n",
    "\n",
    "\n",
    "def random_no_gen():\n",
    "    print(\"Enter 2 numbers: \")\n",
    "    x = int(input(\"Enter 1st number: \"))\n",
    "    y = int(input(\"Enter 2nd number: \"))\n",
    "    r = random.randint(x, y)\n",
    "    return r\n",
    "\n",
    "\n",
    "def input_user_guess():\n",
    "    randno = random_no_gen()\n",
    "    while True:\n",
    "        inp = int(input(\"Enter your guess: \"))\n",
    "        if inp == randno:\n",
    "            print(\"Correct!\")\n",
    "            break\n",
    "        if inp < randno:\n",
    "            print(\"Too low\")\n",
    "        if inp > randno:\n",
    "            print(\"Too high\")\n",
    "\n",
    "\n",
    "input_user_guess()\n"
   ]
  }
 ],
 "metadata": {
  "kernelspec": {
   "display_name": "Python 3 (ipykernel)",
   "language": "python",
   "name": "python3"
  },
  "language_info": {
   "codemirror_mode": {
    "name": "ipython",
    "version": 3
   },
   "file_extension": ".py",
   "mimetype": "text/x-python",
   "name": "python",
   "nbconvert_exporter": "python",
   "pygments_lexer": "ipython3",
   "version": "3.12.1"
  }
 },
 "nbformat": 4,
 "nbformat_minor": 5
}
