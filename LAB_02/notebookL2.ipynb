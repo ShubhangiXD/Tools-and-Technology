{
 "cells": [
  {
   "cell_type": "code",
   "execution_count": 21,
   "metadata": {},
   "outputs": [
    {
     "name": "stdout",
     "output_type": "stream",
     "text": [
      "[1, 2, 3, 5, 6, 8]\n",
      "<class 'list'>\n",
      "[1, 2, 3, 5, 6, 8]\n",
      "[1, 2, 3, 5, 6, 8, 6]\n",
      "[1, 2, 3, 6, 8, 6]\n",
      "[1, 2, 3]\n",
      "6\n",
      "[6, 8, 6, 3, 2, 1]\n",
      "[8, 6, 6, 3, 2, 1]\n",
      "2\n",
      "6\n",
      "[8, 6, 3, 2, 1]\n"
     ]
    }
   ],
   "source": [
    "# list\n",
    "l1 = [2,5,6,1,8,3] \n",
    "l1.sort() \n",
    "print(l1)\n",
    "print(type(l1))\n",
    "print(l1)\n",
    "# adding an element\n",
    "l1.append(6)\n",
    "print(l1)\n",
    "# removing an element\n",
    "l1.remove(5)\n",
    "print(l1)\n",
    "# using the slice operator\n",
    "print(l1[0:3])\n",
    "# accessing elements through index\n",
    "print(l1[-1])\n",
    "# reverse\n",
    "l1.reverse()\n",
    "print(l1)\n",
    "# sort\n",
    "l1.sort(reverse=True)\n",
    "print(l1)\n",
    "# count\n",
    "print(l1.count(6))\n",
    "# pop\n",
    "x = l1.pop(2)\n",
    "print(x)\n",
    "print(l1)"
   ]
  },
  {
   "cell_type": "code",
   "execution_count": 23,
   "metadata": {},
   "outputs": [
    {
     "name": "stdout",
     "output_type": "stream",
     "text": [
      "<class 'tuple'>\n",
      "(1, 2, 3, 4, 5)\n",
      "1\n"
     ]
    }
   ],
   "source": [
    "# tuple\n",
    "t1 = (1, 2, 3, 4, 5)\n",
    "print(type(t1))\n",
    "print(t1)\n",
    "print(t1.count(4))\n",
    "print(t1[::-1])"
   ]
  }
 ],
 "metadata": {
  "kernelspec": {
   "display_name": "Python 3",
   "language": "python",
   "name": "python3"
  },
  "language_info": {
   "name": "python",
   "version": "3.12.1"
  }
 },
 "nbformat": 4,
 "nbformat_minor": 2
}
