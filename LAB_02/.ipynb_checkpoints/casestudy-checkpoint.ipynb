{
 "cells": [
  {
   "cell_type": "code",
   "execution_count": 13,
   "metadata": {},
   "outputs": [
    {
     "name": "stdout",
     "output_type": "stream",
     "text": [
      "Available Items: \n",
      "{'Name': 'Bread', 'Price': 27, 'Quantity': 15}\n",
      "{'Name': 'Juice', 'Price': 20, 'Quantity': 10}\n",
      "{'Name': 'Milk', 'Price': 15, 'Quantity': 15}\n",
      "Choose between the following options: \n",
      "{1: 'Add Items', 2: 'Remove Items', 3: 'View Cart', 4: 'Checkout'}\n",
      "UserCart\n"
     ]
    }
   ],
   "source": [
    "# online shopping cart\n",
    "# Each product has a unique identifier (ID), name, price, and available quantity.\n",
    "# using dictionary to implement an inventory structure\n",
    "products = {3201: {'Name':'Bread', 'Price':27, 'Quantity':15}, \n",
    "            3202: {'Name':'Juice', 'Price':20, 'Quantity':10}, \n",
    "            3204: {'Name':'Milk', 'Price':15, 'Quantity':15}}\n",
    "print(\"Available Items: \")\n",
    "for i in products:\n",
    "    print(products[i])\n",
    "    \n",
    "def userCart(dict):\n",
    "    switch = {1: \"Add Items\",\n",
    "              2: \"Remove Items\",\n",
    "              3: \"View Cart\",\n",
    "              4: \"Checkout\"}\n",
    "    print(\"\\nChoose between the following options: \")\n",
    "    print(switch)\n",
    "    x = int(input(\"Enter your choice: \"))\n",
    "    if x in switch.keys():\n",
    "        if x==1:\n",
    "            print(\"Add to UserCart\")\n",
    "        elif x==2:\n",
    "            print(\"Remove from UserCart\")\n",
    "        elif x==3:\n",
    "            print(\"View UserCart\")\n",
    "        elif x==4:\n",
    "            print(\"Checkout\")\n",
    "        \n",
    "    else:\n",
    "        print(\"Invalid Choice\")\n",
    "\n",
    "userCart(products)"
   ]
  }
 ],
 "metadata": {
  "kernelspec": {
   "display_name": "Python 3 (ipykernel)",
   "language": "python",
   "name": "python3"
  },
  "language_info": {
   "codemirror_mode": {
    "name": "ipython",
    "version": 3
   },
   "file_extension": ".py",
   "mimetype": "text/x-python",
   "name": "python",
   "nbconvert_exporter": "python",
   "pygments_lexer": "ipython3",
   "version": "3.11.5"
  }
 },
 "nbformat": 4,
 "nbformat_minor": 2
}
