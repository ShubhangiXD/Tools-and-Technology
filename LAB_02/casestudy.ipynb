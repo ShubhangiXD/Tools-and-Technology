{
 "cells": [
  {
   "cell_type": "code",
   "execution_count": 10,
   "metadata": {},
   "outputs": [
    {
     "name": "stdout",
     "output_type": "stream",
     "text": [
      "Add items to the inventory: \n",
      "{'12': {'item': 'bread', 'price': 12, 'quantity': 2}}\n",
      "Available Items: \n",
      "{'item': 'bread', 'price': 12, 'quantity': 2}\n",
      "\n",
      "Choose between the following options: \n",
      "{1: 'Add Items', 2: 'Remove Items', 3: 'View Cart', 4: 'Checkout'}\n",
      "Add to UserCart\n",
      "Available Items: \n",
      "{'item': 'bread', 'price': 12, 'quantity': 2}\n"
     ]
    },
    {
     "ename": "KeyError",
     "evalue": "12",
     "output_type": "error",
     "traceback": [
      "\u001b[1;31m---------------------------------------------------------------------------\u001b[0m",
      "\u001b[1;31mKeyError\u001b[0m                                  Traceback (most recent call last)",
      "Cell \u001b[1;32mIn[10], line 69\u001b[0m\n\u001b[0;32m     66\u001b[0m     viewInventory(products)\n\u001b[0;32m     67\u001b[0m     userCart(products)\n\u001b[1;32m---> 69\u001b[0m \u001b[43mmain\u001b[49m\u001b[43m(\u001b[49m\u001b[43m)\u001b[49m\n",
      "Cell \u001b[1;32mIn[10], line 67\u001b[0m, in \u001b[0;36mmain\u001b[1;34m()\u001b[0m\n\u001b[0;32m     65\u001b[0m addInventory(products)\n\u001b[0;32m     66\u001b[0m viewInventory(products)\n\u001b[1;32m---> 67\u001b[0m \u001b[43muserCart\u001b[49m\u001b[43m(\u001b[49m\u001b[43mproducts\u001b[49m\u001b[43m)\u001b[49m\n",
      "Cell \u001b[1;32mIn[10], line 51\u001b[0m, in \u001b[0;36muserCart\u001b[1;34m(dict)\u001b[0m\n\u001b[0;32m     49\u001b[0m \u001b[38;5;28;01mif\u001b[39;00m x\u001b[38;5;241m==\u001b[39m\u001b[38;5;241m1\u001b[39m:\n\u001b[0;32m     50\u001b[0m     \u001b[38;5;28mprint\u001b[39m(\u001b[38;5;124m\"\u001b[39m\u001b[38;5;124mAdd to UserCart\u001b[39m\u001b[38;5;124m\"\u001b[39m)\n\u001b[1;32m---> 51\u001b[0m     \u001b[43maddCart\u001b[49m\u001b[43m(\u001b[49m\u001b[43mcart\u001b[49m\u001b[43m)\u001b[49m\n\u001b[0;32m     52\u001b[0m \u001b[38;5;28;01melif\u001b[39;00m x\u001b[38;5;241m==\u001b[39m\u001b[38;5;241m2\u001b[39m:\n\u001b[0;32m     53\u001b[0m     \u001b[38;5;28mprint\u001b[39m(\u001b[38;5;124m\"\u001b[39m\u001b[38;5;124mRemove from UserCart\u001b[39m\u001b[38;5;124m\"\u001b[39m)\n",
      "Cell \u001b[1;32mIn[10], line 35\u001b[0m, in \u001b[0;36maddCart\u001b[1;34m(dict)\u001b[0m\n\u001b[0;32m     33\u001b[0m \u001b[38;5;28mid\u001b[39m \u001b[38;5;241m=\u001b[39m \u001b[38;5;28mint\u001b[39m(\u001b[38;5;28minput\u001b[39m(\u001b[38;5;124m\"\u001b[39m\u001b[38;5;124mEnter the product ID to buy\u001b[39m\u001b[38;5;124m\"\u001b[39m))\n\u001b[0;32m     34\u001b[0m \u001b[38;5;28mdict\u001b[39m[\u001b[38;5;28mid\u001b[39m] \u001b[38;5;241m=\u001b[39m {}\n\u001b[1;32m---> 35\u001b[0m \u001b[38;5;28mdict\u001b[39m[\u001b[38;5;28mid\u001b[39m][\u001b[38;5;124m\"\u001b[39m\u001b[38;5;124mitem\u001b[39m\u001b[38;5;124m\"\u001b[39m] \u001b[38;5;241m=\u001b[39m \u001b[43mproducts\u001b[49m\u001b[43m[\u001b[49m\u001b[38;5;28;43mid\u001b[39;49m\u001b[43m]\u001b[49m[\u001b[38;5;124m\"\u001b[39m\u001b[38;5;124mitem\u001b[39m\u001b[38;5;124m\"\u001b[39m]\n\u001b[0;32m     36\u001b[0m \u001b[38;5;28mdict\u001b[39m[\u001b[38;5;28mid\u001b[39m][\u001b[38;5;124m\"\u001b[39m\u001b[38;5;124mprice\u001b[39m\u001b[38;5;124m\"\u001b[39m] \u001b[38;5;241m=\u001b[39m products[\u001b[38;5;28mid\u001b[39m][\u001b[38;5;124m\"\u001b[39m\u001b[38;5;124mprice\u001b[39m\u001b[38;5;124m\"\u001b[39m]\n\u001b[0;32m     37\u001b[0m quantity \u001b[38;5;241m=\u001b[39m \u001b[38;5;28mint\u001b[39m(\u001b[38;5;28minput\u001b[39m(\u001b[38;5;124m\"\u001b[39m\u001b[38;5;124mEnter quantity: \u001b[39m\u001b[38;5;124m\"\u001b[39m))\n",
      "\u001b[1;31mKeyError\u001b[0m: 12"
     ]
    }
   ],
   "source": [
    "# online shopping cart\n",
    "# Each product has a unique identifier (ID), item, price, and available quantity.\n",
    "# using dictionary to implement an inventory structure\n",
    "products = {}\n",
    "cart = {}\n",
    "\n",
    "# INVENTORY\n",
    "def addInventory(dict):\n",
    "    size = int(input(\"Enter the number of items to add to the inventory: \"))\n",
    "    for i in range(size):\n",
    "        item_code = input(\"Enter the item code: \")\n",
    "        dict[item_code] = {}\n",
    "        item = input(\"Enter item name: \")\n",
    "        price = int(input(\"Enter price: \"))\n",
    "        quantity = int(input(\"Enter quantity: \"))\n",
    "        dict[item_code][\"item\"] = item\n",
    "        dict[item_code][\"price\"] = price\n",
    "        dict[item_code][\"quantity\"] = quantity\n",
    "    print(dict)\n",
    "    \n",
    "    \n",
    "def viewInventory(dict):\n",
    "    print(\"Available Items: \")\n",
    "    for i in dict:\n",
    "        print(dict[i])\n",
    "        \n",
    "    \n",
    "# USER CART\n",
    "def addCart(dict):\n",
    "        viewInventory(products)\n",
    "        count = int(input(\"Enter the number of items to buy: \"))\n",
    "        for i in range(count):\n",
    "            id = int(input(\"Enter the product ID to buy\"))\n",
    "            dict[id] = {}\n",
    "            dict[id][\"item\"] = products[id][\"item\"]\n",
    "            dict[id][\"price\"] = products[id][\"price\"]\n",
    "            quantity = int(input(\"Enter quantity: \"))\n",
    "            dict[id][\"quantity\"] = quantity\n",
    "           \n",
    "def userCart(dict):\n",
    "    switch = {1: \"Add Items\",\n",
    "              2: \"Remove Items\",\n",
    "              3: \"View Cart\",\n",
    "              4: \"Checkout\"}\n",
    "    print(\"\\nChoose between the following options: \")\n",
    "    print(switch)\n",
    "    x = int(input(\"Enter your choice: \"))\n",
    "    if x in switch.keys():\n",
    "        if x==1:\n",
    "            print(\"Add to UserCart\")\n",
    "            addCart(cart)\n",
    "        elif x==2:\n",
    "            print(\"Remove from UserCart\")\n",
    "        elif x==3:\n",
    "            print(\"View UserCart\")\n",
    "        elif x==4:\n",
    "            print(\"Checkout\")\n",
    "        \n",
    "    else:\n",
    "        print(\"Invalid Choice\")\n",
    "\n",
    "\n",
    "def main():\n",
    "    print(\"Add items to the inventory: \")\n",
    "    addInventory(products)\n",
    "    viewInventory(products)\n",
    "    userCart(products)\n",
    "    \n",
    "main()"
   ]
  }
 ],
 "metadata": {
  "kernelspec": {
   "display_name": "Python 3 (ipykernel)",
   "language": "python",
   "name": "python3"
  },
  "language_info": {
   "codemirror_mode": {
    "name": "ipython",
    "version": 3
   },
   "file_extension": ".py",
   "mimetype": "text/x-python",
   "name": "python",
   "nbconvert_exporter": "python",
   "pygments_lexer": "ipython3",
   "version": "3.12.1"
  }
 },
 "nbformat": 4,
 "nbformat_minor": 2
}
