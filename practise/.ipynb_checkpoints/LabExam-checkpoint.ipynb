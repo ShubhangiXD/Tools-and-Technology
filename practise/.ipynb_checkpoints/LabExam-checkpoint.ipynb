{
 "cells": [
  {
   "cell_type": "code",
   "execution_count": 1,
   "id": "c19fa7ad-c24a-47f4-a3fa-8b9798dfd88f",
   "metadata": {},
   "outputs": [],
   "source": [
    "# question 1\n",
    "import pandas as pd\n",
    "import numpy as nm\n",
    "import matplotlib as plt\n",
    "iris = pd.read_csv('iris.csv')"
   ]
  },
  {
   "cell_type": "code",
   "execution_count": 2,
   "id": "9c3d8daf-dbee-46a9-bda3-8f1ee07b7efa",
   "metadata": {},
   "outputs": [
    {
     "name": "stdout",
     "output_type": "stream",
     "text": [
      "150\n"
     ]
    }
   ],
   "source": [
    "# A - How many samples are in the dataset?\n",
    "iris_samp = iris.shape[0]\n",
    "print(iris_samp)"
   ]
  },
  {
   "cell_type": "code",
   "execution_count": 3,
   "id": "eff94d01-4844-4230-bde2-a04ffe4b3f5c",
   "metadata": {},
   "outputs": [
    {
     "name": "stdout",
     "output_type": "stream",
     "text": [
      "5\n"
     ]
    }
   ],
   "source": [
    "# B - How many features are there in the dataset?\n",
    "iris_feat = len(iris.columns)\n",
    "print(iris_feat)"
   ]
  },
  {
   "cell_type": "code",
   "execution_count": 4,
   "id": "6b76a29e-32ec-428f-9c2e-0f2b04e43d4f",
   "metadata": {},
   "outputs": [
    {
     "name": "stdout",
     "output_type": "stream",
     "text": [
      "(150, 5)\n"
     ]
    }
   ],
   "source": [
    "# A and B\n",
    "iris_vals = iris.shape\n",
    "print(iris_vals)"
   ]
  },
  {
   "cell_type": "code",
   "execution_count": 5,
   "id": "8c653e0a-f1a7-42c0-abc9-d8d305cf7597",
   "metadata": {},
   "outputs": [
    {
     "name": "stdout",
     "output_type": "stream",
     "text": [
      "['Setosa' 'Versicolor' 'Virginica']\n"
     ]
    }
   ],
   "source": [
    "# C\n",
    "print(iris['variety'].unique())"
   ]
  },
  {
   "cell_type": "code",
   "execution_count": 6,
   "id": "3c8d7ac5-ac4f-4ac0-b523-1794830203eb",
   "metadata": {},
   "outputs": [
    {
     "data": {
      "text/plain": [
       "sepal.length    5.80\n",
       "sepal.width     3.00\n",
       "petal.length    4.35\n",
       "petal.width     1.30\n",
       "dtype: float64"
      ]
     },
     "execution_count": 6,
     "metadata": {},
     "output_type": "execute_result"
    }
   ],
   "source": [
    "# D\n",
    "newdf = iris.drop(['variety'],axis=1)\n",
    "newdf.median(axis=0)"
   ]
  },
  {
   "cell_type": "code",
   "execution_count": 7,
   "id": "34ff4c8f-a7cd-4808-b857-befeaed6cefc",
   "metadata": {},
   "outputs": [
    {
     "data": {
      "text/html": [
       "<div>\n",
       "<style scoped>\n",
       "    .dataframe tbody tr th:only-of-type {\n",
       "        vertical-align: middle;\n",
       "    }\n",
       "\n",
       "    .dataframe tbody tr th {\n",
       "        vertical-align: top;\n",
       "    }\n",
       "\n",
       "    .dataframe thead th {\n",
       "        text-align: right;\n",
       "    }\n",
       "</style>\n",
       "<table border=\"1\" class=\"dataframe\">\n",
       "  <thead>\n",
       "    <tr style=\"text-align: right;\">\n",
       "      <th></th>\n",
       "      <th>sepal.length</th>\n",
       "      <th>sepal.width</th>\n",
       "      <th>petal.length</th>\n",
       "      <th>petal.width</th>\n",
       "    </tr>\n",
       "  </thead>\n",
       "  <tbody>\n",
       "    <tr>\n",
       "      <th>count</th>\n",
       "      <td>150.000000</td>\n",
       "      <td>150.000000</td>\n",
       "      <td>150.000000</td>\n",
       "      <td>150.000000</td>\n",
       "    </tr>\n",
       "    <tr>\n",
       "      <th>mean</th>\n",
       "      <td>5.843333</td>\n",
       "      <td>3.057333</td>\n",
       "      <td>3.758000</td>\n",
       "      <td>1.199333</td>\n",
       "    </tr>\n",
       "    <tr>\n",
       "      <th>std</th>\n",
       "      <td>0.828066</td>\n",
       "      <td>0.435866</td>\n",
       "      <td>1.765298</td>\n",
       "      <td>0.762238</td>\n",
       "    </tr>\n",
       "    <tr>\n",
       "      <th>min</th>\n",
       "      <td>4.300000</td>\n",
       "      <td>2.000000</td>\n",
       "      <td>1.000000</td>\n",
       "      <td>0.100000</td>\n",
       "    </tr>\n",
       "    <tr>\n",
       "      <th>25%</th>\n",
       "      <td>5.100000</td>\n",
       "      <td>2.800000</td>\n",
       "      <td>1.600000</td>\n",
       "      <td>0.300000</td>\n",
       "    </tr>\n",
       "    <tr>\n",
       "      <th>50%</th>\n",
       "      <td>5.800000</td>\n",
       "      <td>3.000000</td>\n",
       "      <td>4.350000</td>\n",
       "      <td>1.300000</td>\n",
       "    </tr>\n",
       "    <tr>\n",
       "      <th>75%</th>\n",
       "      <td>6.400000</td>\n",
       "      <td>3.300000</td>\n",
       "      <td>5.100000</td>\n",
       "      <td>1.800000</td>\n",
       "    </tr>\n",
       "    <tr>\n",
       "      <th>max</th>\n",
       "      <td>7.900000</td>\n",
       "      <td>4.400000</td>\n",
       "      <td>6.900000</td>\n",
       "      <td>2.500000</td>\n",
       "    </tr>\n",
       "  </tbody>\n",
       "</table>\n",
       "</div>"
      ],
      "text/plain": [
       "       sepal.length  sepal.width  petal.length  petal.width\n",
       "count    150.000000   150.000000    150.000000   150.000000\n",
       "mean       5.843333     3.057333      3.758000     1.199333\n",
       "std        0.828066     0.435866      1.765298     0.762238\n",
       "min        4.300000     2.000000      1.000000     0.100000\n",
       "25%        5.100000     2.800000      1.600000     0.300000\n",
       "50%        5.800000     3.000000      4.350000     1.300000\n",
       "75%        6.400000     3.300000      5.100000     1.800000\n",
       "max        7.900000     4.400000      6.900000     2.500000"
      ]
     },
     "execution_count": 7,
     "metadata": {},
     "output_type": "execute_result"
    }
   ],
   "source": [
    "iris.describe()"
   ]
  },
  {
   "cell_type": "code",
   "execution_count": 8,
   "id": "ff790424-dbe0-4e53-934b-73dd1b516e3b",
   "metadata": {},
   "outputs": [
    {
     "name": "stdout",
     "output_type": "stream",
     "text": [
      "[[<Axes: title={'center': 'sepal.length'}>\n",
      "  <Axes: title={'center': 'sepal.width'}>]\n",
      " [<Axes: title={'center': 'petal.length'}>\n",
      "  <Axes: title={'center': 'petal.width'}>]]\n"
     ]
    },
    {
     "data": {
      "image/png": "[encoded data removed]",
      "text/plain": [
       "<Figure size 1000x800 with 4 Axes>"
      ]
     },
     "metadata": {},
     "output_type": "display_data"
    }
   ],
   "source": [
    "# E\n",
    "print(iris.hist(figsize=(10,8)))"
   ]
  },
  {
   "cell_type": "code",
   "execution_count": 9,
   "id": "e66af902-daa9-4937-8ebd-3d692d698a13",
   "metadata": {},
   "outputs": [
    {
     "data": {
      "text/plain": [
       "<Axes: >"
      ]
     },
     "execution_count": 9,
     "metadata": {},
     "output_type": "execute_result"
    },
    {
     "data": {
      "image/png": "[encoded data removed]",
      "text/plain": [
       "<Figure size 640x480 with 2 Axes>"
      ]
     },
     "metadata": {},
     "output_type": "display_data"
    }
   ],
   "source": [
    "# F\n",
    "import seaborn as sns\n",
    "corelationmatrix = newdf.corr()\n",
    "sns.heatmap(corelationmatrix,annot=True,cmap='coolwarm')"
   ]
  },
  {
   "cell_type": "code",
   "execution_count": 10,
   "id": "d1546368-664f-4bdb-bd74-56dec35f058f",
   "metadata": {},
   "outputs": [],
   "source": [
    "from sklearn.model_selection import train_test_split\n",
    "X= iris.iloc[:, [2,3]].values  \n",
    "y= iris.iloc[:, 4].values\n",
    "X_train, X_test, y_train, y_test = train_test_split(X, y, test_size=0.2, random_state=42)"
   ]
  },
  {
   "cell_type": "code",
   "execution_count": 11,
   "id": "4fcba745-3edc-49bc-875b-14f0566e1799",
   "metadata": {},
   "outputs": [],
   "source": [
    "# G\n",
    "from sklearn.ensemble import RandomForestClassifier\n",
    "clf = RandomForestClassifier()\n",
    "clf.fit(X_train, y_train)\n",
    "y_pred = clf.predict(X_test)"
   ]
  },
  {
   "cell_type": "code",
   "execution_count": 12,
   "id": "9e0b7bf4-d95a-44d6-b0be-be6a4a6fbb39",
   "metadata": {},
   "outputs": [
    {
     "name": "stdout",
     "output_type": "stream",
     "text": [
      "1.0\n",
      "1.0\n",
      "1.0\n",
      "1.0\n"
     ]
    }
   ],
   "source": [
    "# H\n",
    "import sklearn.metrics\n",
    "accuracy = sklearn.metrics.accuracy_score(y_test, y_pred)\n",
    "precision = sklearn.metrics.precision_score(y_test, y_pred,average='micro')\n",
    "recall = sklearn.metrics.recall_score(y_test, y_pred,average='micro')\n",
    "f1_score = sklearn.metrics.f1_score(y_test, y_pred,average='micro')\n",
    "print(accuracy)\n",
    "print(precision)\n",
    "print(recall)\n",
    "print(f1_score)"
   ]
  },
  {
   "cell_type": "code",
   "execution_count": 13,
   "id": "fb96ce6c-4dc5-4fe8-90c1-efb456a4d91e",
   "metadata": {},
   "outputs": [
    {
     "name": "stdout",
     "output_type": "stream",
     "text": [
      "Original Array:\n",
      "[[1 2 3]\n",
      " [4 5 6]\n",
      " [7 8 9]]\n",
      "\n",
      "Subset Array:\n",
      "[[2 3]\n",
      " [5 6]]\n"
     ]
    }
   ],
   "source": [
    "# 2\n",
    "import numpy as np\n",
    "array = np.array([[1, 2, 3], [4, 5, 6], [7, 8, 9]])\n",
    "sub_array = array[0:2, 1:3]\n",
    "print(\"Original Array:\")\n",
    "print(array)\n",
    "print(\"\\nSubset Array:\")\n",
    "print(sub_array)"
   ]
  },
  {
   "cell_type": "code",
   "execution_count": 14,
   "id": "afac956d-145f-4152-b777-8636e8b2dd06",
   "metadata": {},
   "outputs": [
    {
     "name": "stdin",
     "output_type": "stream",
     "text": [
      "Enter the number of elements:  5\n"
     ]
    },
    {
     "name": "stdout",
     "output_type": "stream",
     "text": [
      "0.9570129261967875\n",
      "0.9157244963660173\n",
      "0.753917467367508\n"
     ]
    }
   ],
   "source": [
    "# 4\n",
    "import numpy as np\n",
    "n = int(input(\"Enter the number of elements: \"))\n",
    "arr = np.random.rand(n)\n",
    "mean = np.mean(arr)\n",
    "for ele in arr:\n",
    "    if ele>mean:\n",
    "        print(ele)"
   ]
  },
  {
   "cell_type": "code",
   "execution_count": 15,
   "id": "be5b90af-1ceb-4de7-a757-d9b54caab348",
   "metadata": {},
   "outputs": [
    {
     "name": "stdout",
     "output_type": "stream",
     "text": [
      "[[4 5 9]\n",
      " [9 3 7]\n",
      " [2 4 8]\n",
      " [5 8 1]\n",
      " [1 3 3]]\n",
      "[[3 4 2 3 1 2]\n",
      " [6 9 9 8 4 4]\n",
      " [6 7 2 1 2 3]]\n",
      "[[ 96 124  71  61  42  55]\n",
      " [ 87 112  59  58  35  51]\n",
      " [ 78 100  56  46  34  44]\n",
      " [ 69  99  84  80  39  45]\n",
      " [ 39  52  35  30  19  23]]\n"
     ]
    }
   ],
   "source": [
    "# 5\n",
    "arr1 = np.random.randint(1, 10, size=(5, 3))\n",
    "arr2 = np.random.randint(1, 10, size=(3, 6))\n",
    "res = np.dot(arr1, arr2)\n",
    "print(arr1)\n",
    "print(arr2)\n",
    "print(res)"
   ]
  },
  {
   "cell_type": "code",
   "execution_count": 16,
   "id": "9d42baab-74f1-44bd-95bf-32fe4e27a0dc",
   "metadata": {},
   "outputs": [],
   "source": [
    "# 6\n",
    "from sklearn.model_selection import train_test_split\n",
    "X_train, X_test, y_train, y_test = train_test_split(X, y, test_size=0.2)"
   ]
  }
 ],
 "metadata": {
  "kernelspec": {
   "display_name": "Python 3 (ipykernel)",
   "language": "python",
   "name": "python3"
  },
  "language_info": {
   "codemirror_mode": {
    "name": "ipython",
    "version": 3
   },
   "file_extension": ".py",
   "mimetype": "text/x-python",
   "name": "python",
   "nbconvert_exporter": "python",
   "pygments_lexer": "ipython3",
   "version": "3.11.5"
  }
 },
 "nbformat": 4,
 "nbformat_minor": 5
}
